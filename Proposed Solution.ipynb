{
 "cells": [
  {
   "cell_type": "markdown",
   "id": "97f99958",
   "metadata": {},
   "source": [
    "# Importing"
   ]
  },
  {
   "cell_type": "code",
   "execution_count": 1,
   "id": "2238c0ba",
   "metadata": {},
   "outputs": [],
   "source": [
    "import pandas as pd\n",
    "from sumy.summarizers.lex_rank import LexRankSummarizer\n",
    "from sumy.summarizers.luhn import LuhnSummarizer\n",
    "from sumy.summarizers.sum_basic import SumBasicSummarizer\n",
    "from sklearn.model_selection import train_test_split"
   ]
  },
  {
   "cell_type": "code",
   "execution_count": 2,
   "id": "e842efae",
   "metadata": {},
   "outputs": [
    {
     "name": "stderr",
     "output_type": "stream",
     "text": [
      "[nltk_data] Downloading package punkt to\n",
      "[nltk_data]     /Users/dawarwaqar/nltk_data...\n",
      "[nltk_data]   Package punkt is already up-to-date!\n",
      "[nltk_data] Downloading package stopwords to\n",
      "[nltk_data]     /Users/dawarwaqar/nltk_data...\n",
      "[nltk_data]   Package stopwords is already up-to-date!\n"
     ]
    }
   ],
   "source": [
    "from main import replace_dots, preprocess_text, summarizer, calc_rouge, avg_rouge, generate_ensemble_summary"
   ]
  },
  {
   "cell_type": "markdown",
   "id": "a25ed92b",
   "metadata": {},
   "source": [
    "# Reading Data from CSV"
   ]
  },
  {
   "cell_type": "code",
   "execution_count": 3,
   "id": "d80186b2",
   "metadata": {},
   "outputs": [],
   "source": [
    "data = pd.read_csv(\"./data/bbc_data.csv\") #source: https://www.kaggle.com/datasets/pariza/bbc-news-summary/data"
   ]
  },
  {
   "cell_type": "code",
   "execution_count": 4,
   "id": "dff30eff",
   "metadata": {},
   "outputs": [
    {
     "data": {
      "text/html": [
       "<div>\n",
       "<style scoped>\n",
       "    .dataframe tbody tr th:only-of-type {\n",
       "        vertical-align: middle;\n",
       "    }\n",
       "\n",
       "    .dataframe tbody tr th {\n",
       "        vertical-align: top;\n",
       "    }\n",
       "\n",
       "    .dataframe thead th {\n",
       "        text-align: right;\n",
       "    }\n",
       "</style>\n",
       "<table border=\"1\" class=\"dataframe\">\n",
       "  <thead>\n",
       "    <tr style=\"text-align: right;\">\n",
       "      <th></th>\n",
       "      <th>label</th>\n",
       "      <th>text</th>\n",
       "      <th>summary</th>\n",
       "    </tr>\n",
       "  </thead>\n",
       "  <tbody>\n",
       "    <tr>\n",
       "      <th>0</th>\n",
       "      <td>business</td>\n",
       "      <td>UK economy facing 'major risks'..The UK manufa...</td>\n",
       "      <td>\"Despite some positive news for the export sec...</td>\n",
       "    </tr>\n",
       "    <tr>\n",
       "      <th>1</th>\n",
       "      <td>business</td>\n",
       "      <td>Aids and climate top Davos agenda..Climate cha...</td>\n",
       "      <td>At the same time, about 100,000 people are exp...</td>\n",
       "    </tr>\n",
       "    <tr>\n",
       "      <th>2</th>\n",
       "      <td>business</td>\n",
       "      <td>Asian quake hits European shares..Shares in Eu...</td>\n",
       "      <td>The unfolding scale of the disaster in south A...</td>\n",
       "    </tr>\n",
       "    <tr>\n",
       "      <th>3</th>\n",
       "      <td>business</td>\n",
       "      <td>India power shares jump on debut..Shares in In...</td>\n",
       "      <td>Shares in India's largest power producer, Nati...</td>\n",
       "    </tr>\n",
       "    <tr>\n",
       "      <th>4</th>\n",
       "      <td>business</td>\n",
       "      <td>Lacroix label bought by US firm..Luxury goods ...</td>\n",
       "      <td>LVMH said the French designer's haute couture ...</td>\n",
       "    </tr>\n",
       "  </tbody>\n",
       "</table>\n",
       "</div>"
      ],
      "text/plain": [
       "      label                                               text  \\\n",
       "0  business  UK economy facing 'major risks'..The UK manufa...   \n",
       "1  business  Aids and climate top Davos agenda..Climate cha...   \n",
       "2  business  Asian quake hits European shares..Shares in Eu...   \n",
       "3  business  India power shares jump on debut..Shares in In...   \n",
       "4  business  Lacroix label bought by US firm..Luxury goods ...   \n",
       "\n",
       "                                             summary  \n",
       "0  \"Despite some positive news for the export sec...  \n",
       "1  At the same time, about 100,000 people are exp...  \n",
       "2  The unfolding scale of the disaster in south A...  \n",
       "3  Shares in India's largest power producer, Nati...  \n",
       "4  LVMH said the French designer's haute couture ...  "
      ]
     },
     "execution_count": 4,
     "metadata": {},
     "output_type": "execute_result"
    }
   ],
   "source": [
    "data.head()"
   ]
  },
  {
   "cell_type": "code",
   "execution_count": 5,
   "id": "da64ce39",
   "metadata": {},
   "outputs": [
    {
     "data": {
      "text/plain": [
       "(2225, 3)"
      ]
     },
     "execution_count": 5,
     "metadata": {},
     "output_type": "execute_result"
    }
   ],
   "source": [
    "data.shape"
   ]
  },
  {
   "cell_type": "markdown",
   "id": "e4aa2f42",
   "metadata": {},
   "source": [
    "# Data Preprocessing"
   ]
  },
  {
   "cell_type": "code",
   "execution_count": 6,
   "id": "50483091",
   "metadata": {},
   "outputs": [
    {
     "data": {
      "text/plain": [
       "'Aids and climate top Davos agenda..Climate change and the fight against Aids are leading the list of concerns for the first day of the World Economic Forum in the Swiss resort of Davos...Some 2,000 business and political leaders from around the globe will listen to UK Prime Minister Tony Blair\\'s opening speech on Wednesday. Mr Blair will focus on Africa\\'s development plans and global warming. Earlier in the day came an update on efforts to have 3 million people on anti-Aids drugs by the end of 2005. The World Health Organisation (WHO) said 700,000 people in poor countries were on life-extending drugs - up from 440,000 six months earlier but amounting to only 12% of the 5.8 million who needed them. A $2bn \"funding gap\" still stood in the way of hitting the 2005 target, the WHO said...The themes to be stressed by Mr Blair - whose attendance was announced at the last minute - are those he wants to dominate the UK\\'s chairmanship of the G8 group of industrialised states. Other issues to be discussed at the five-day conference range from China\\'s..economic power to Iraq\\'s future after this Sunday\\'s elections. Aside from Mr Blair, more than 20 other world leaders are expected to attend including French President Jacques Chirac - due to speak by video link after bad weather delayed his helicopter - and South African President Thabo Mbeki, whose arrival has been delayed by Ivory Coast peace talks. The Ukraine\\'s new president, Viktor Yushchenko, will also be there - as will newly elected Palestinian leader Mahmoud Abbas. Showbiz figures will also put in an appearance, from U2 frontman Bono - a well-known campaigner on trade and development issues - to Angelina Jolie, a goodwill campaigner for the UN on refugees...Unlike previous years, protests against the WEF are expected to be muted. Anti-globalisation campaigners have called off a demonstration planned for the weekend. At the same time, about 100,000 people are expected to converge on the Brazilian resort of Porto Alegre for the World Social Forum - the so-called \"anti-Davos\" for campaigners against globalisation, for fair trade, and many other causes...In contrast, the Davos forum is dominated by business issues - from outsourcing to corporate leadership - with bosses of more than a fifth of the world\\'s 500 largest companies scheduled to attend. A survey published on the eve of the conference by PricewaterhouseCoopers said four in ten business leaders were \"very confident\" that their companies would see sales rise in 2005. Asian and American executives, however, were much more confident than their European counterparts. But the political discussions, focusing on Iran, Iraq and China, are likely to dominate media attention.'"
      ]
     },
     "execution_count": 6,
     "metadata": {},
     "output_type": "execute_result"
    }
   ],
   "source": [
    "data['text'][1]"
   ]
  },
  {
   "cell_type": "code",
   "execution_count": 7,
   "id": "b13c4169",
   "metadata": {},
   "outputs": [],
   "source": [
    "data['text'] = data['text'].apply(lambda x: replace_dots(x)) # replace_dots function replaces sequences of dots with a single dot followed by a space. It also ensures that there is a space after a dot that is preceded by a digit."
   ]
  },
  {
   "cell_type": "code",
   "execution_count": 8,
   "id": "1f52dc25",
   "metadata": {},
   "outputs": [
    {
     "data": {
      "text/plain": [
       "'Aids and climate top Davos agenda. Climate change and the fight against Aids are leading the list of concerns for the first day of the World Economic Forum in the Swiss resort of Davos. Some 2,000 business and political leaders from around the globe will listen to UK Prime Minister Tony Blair\\'s opening speech on Wednesday.  Mr Blair will focus on Africa\\'s development plans and global warming.  Earlier in the day came an update on efforts to have 3 million people on anti-Aids drugs by the end of 2005.  The World Health Organisation (WHO) said 700,000 people in poor countries were on life-extending drugs - up from 440,000 six months earlier but amounting to only 12% of the 5.8 million who needed them.  A $2bn \"funding gap\" still stood in the way of hitting the 2005 target, the WHO said. The themes to be stressed by Mr Blair - whose attendance was announced at the last minute - are those he wants to dominate the UK\\'s chairmanship of the G8 group of industrialised states.  Other issues to be discussed at the five-day conference range from China\\'s. economic power to Iraq\\'s future after this Sunday\\'s elections.  Aside from Mr Blair, more than 20 other world leaders are expected to attend including French President Jacques Chirac - due to speak by video link after bad weather delayed his helicopter - and South African President Thabo Mbeki, whose arrival has been delayed by Ivory Coast peace talks.  The Ukraine\\'s new president, Viktor Yushchenko, will also be there - as will newly elected Palestinian leader Mahmoud Abbas.  Showbiz figures will also put in an appearance, from U2 frontman Bono - a well-known campaigner on trade and development issues - to Angelina Jolie, a goodwill campaigner for the UN on refugees. Unlike previous years, protests against the WEF are expected to be muted.  Anti-globalisation campaigners have called off a demonstration planned for the weekend.  At the same time, about 100,000 people are expected to converge on the Brazilian resort of Porto Alegre for the World Social Forum - the so-called \"anti-Davos\" for campaigners against globalisation, for fair trade, and many other causes. In contrast, the Davos forum is dominated by business issues - from outsourcing to corporate leadership - with bosses of more than a fifth of the world\\'s 500 largest companies scheduled to attend.  A survey published on the eve of the conference by PricewaterhouseCoopers said four in ten business leaders were \"very confident\" that their companies would see sales rise in 2005.  Asian and American executives, however, were much more confident than their European counterparts.  But the political discussions, focusing on Iran, Iraq and China, are likely to dominate media attention. '"
      ]
     },
     "execution_count": 8,
     "metadata": {},
     "output_type": "execute_result"
    }
   ],
   "source": [
    "data['text'][1]"
   ]
  },
  {
   "cell_type": "code",
   "execution_count": 9,
   "id": "cc453020",
   "metadata": {},
   "outputs": [],
   "source": [
    "data['summary'] = data['summary'].apply(lambda x: replace_dots(x))"
   ]
  },
  {
   "cell_type": "code",
   "execution_count": 10,
   "id": "dd2c7cc7",
   "metadata": {},
   "outputs": [],
   "source": [
    "data = preprocess_text(data)"
   ]
  },
  {
   "cell_type": "code",
   "execution_count": 11,
   "id": "75417163",
   "metadata": {},
   "outputs": [
    {
     "data": {
      "text/html": [
       "<div>\n",
       "<style scoped>\n",
       "    .dataframe tbody tr th:only-of-type {\n",
       "        vertical-align: middle;\n",
       "    }\n",
       "\n",
       "    .dataframe tbody tr th {\n",
       "        vertical-align: top;\n",
       "    }\n",
       "\n",
       "    .dataframe thead th {\n",
       "        text-align: right;\n",
       "    }\n",
       "</style>\n",
       "<table border=\"1\" class=\"dataframe\">\n",
       "  <thead>\n",
       "    <tr style=\"text-align: right;\">\n",
       "      <th></th>\n",
       "      <th>label</th>\n",
       "      <th>text</th>\n",
       "      <th>summary</th>\n",
       "    </tr>\n",
       "  </thead>\n",
       "  <tbody>\n",
       "    <tr>\n",
       "      <th>0</th>\n",
       "      <td>business</td>\n",
       "      <td>UK economy facing 'major risks'. The UK manufa...</td>\n",
       "      <td>\"Despite some positive news for the export sec...</td>\n",
       "    </tr>\n",
       "    <tr>\n",
       "      <th>1</th>\n",
       "      <td>business</td>\n",
       "      <td>Aids and climate top Davos agenda. Climate cha...</td>\n",
       "      <td>At the same time, about 100,000 people are exp...</td>\n",
       "    </tr>\n",
       "    <tr>\n",
       "      <th>2</th>\n",
       "      <td>business</td>\n",
       "      <td>Asian quake hits European shares. Shares in Eu...</td>\n",
       "      <td>The unfolding scale of the disaster in south A...</td>\n",
       "    </tr>\n",
       "    <tr>\n",
       "      <th>3</th>\n",
       "      <td>business</td>\n",
       "      <td>India power shares jump on debut. Shares in In...</td>\n",
       "      <td>Shares in India's largest power producer, Nati...</td>\n",
       "    </tr>\n",
       "    <tr>\n",
       "      <th>4</th>\n",
       "      <td>business</td>\n",
       "      <td>Lacroix label bought by US firm. Luxury goods ...</td>\n",
       "      <td>LVMH said the French designer's haute couture ...</td>\n",
       "    </tr>\n",
       "  </tbody>\n",
       "</table>\n",
       "</div>"
      ],
      "text/plain": [
       "      label                                               text  \\\n",
       "0  business  UK economy facing 'major risks'. The UK manufa...   \n",
       "1  business  Aids and climate top Davos agenda. Climate cha...   \n",
       "2  business  Asian quake hits European shares. Shares in Eu...   \n",
       "3  business  India power shares jump on debut. Shares in In...   \n",
       "4  business  Lacroix label bought by US firm. Luxury goods ...   \n",
       "\n",
       "                                             summary  \n",
       "0  \"Despite some positive news for the export sec...  \n",
       "1  At the same time, about 100,000 people are exp...  \n",
       "2  The unfolding scale of the disaster in south A...  \n",
       "3  Shares in India's largest power producer, Nati...  \n",
       "4  LVMH said the French designer's haute couture ...  "
      ]
     },
     "execution_count": 11,
     "metadata": {},
     "output_type": "execute_result"
    }
   ],
   "source": [
    "data.head()"
   ]
  },
  {
   "cell_type": "markdown",
   "id": "df231415-1697-492a-9246-1d0f5268f850",
   "metadata": {},
   "source": [
    "# Train-Test Split"
   ]
  },
  {
   "cell_type": "code",
   "execution_count": 12,
   "id": "dbc7c3cb-f769-4bb1-bcad-dbc9abd722df",
   "metadata": {},
   "outputs": [],
   "source": [
    "X = data.drop(columns = ['label'])\n",
    "y = data['label']\n",
    "train, test, y_train, y_test = train_test_split(X, y, test_size = 0.2, random_state = 42, stratify = y)"
   ]
  },
  {
   "cell_type": "code",
   "execution_count": 13,
   "id": "f7240b81-e2d4-413c-b84e-192cf0a40770",
   "metadata": {},
   "outputs": [],
   "source": [
    "#data is now train\n",
    "data = train.copy()\n",
    "data.reset_index(drop = True, inplace = True)\n",
    "test.reset_index(drop = True, inplace = True)"
   ]
  },
  {
   "cell_type": "markdown",
   "id": "5c15455e",
   "metadata": {},
   "source": [
    "# Base Extractive Summarization Techniques"
   ]
  },
  {
   "cell_type": "markdown",
   "id": "6b7a5d16",
   "metadata": {},
   "source": [
    "## 1) LSA Summarizer"
   ]
  },
  {
   "cell_type": "code",
   "execution_count": 14,
   "id": "8338d0b7",
   "metadata": {},
   "outputs": [],
   "source": [
    "data['lsa_summary'] = data['text'].apply(lambda x: summarizer(x, 3))"
   ]
  },
  {
   "cell_type": "code",
   "execution_count": 15,
   "id": "46411abc",
   "metadata": {},
   "outputs": [
    {
     "data": {
      "text/html": [
       "<div>\n",
       "<style scoped>\n",
       "    .dataframe tbody tr th:only-of-type {\n",
       "        vertical-align: middle;\n",
       "    }\n",
       "\n",
       "    .dataframe tbody tr th {\n",
       "        vertical-align: top;\n",
       "    }\n",
       "\n",
       "    .dataframe thead th {\n",
       "        text-align: right;\n",
       "    }\n",
       "</style>\n",
       "<table border=\"1\" class=\"dataframe\">\n",
       "  <thead>\n",
       "    <tr style=\"text-align: right;\">\n",
       "      <th></th>\n",
       "      <th>text</th>\n",
       "      <th>summary</th>\n",
       "      <th>lsa_summary</th>\n",
       "    </tr>\n",
       "  </thead>\n",
       "  <tbody>\n",
       "    <tr>\n",
       "      <th>0</th>\n",
       "      <td>Fiat chief takes steering wheel. The chief exe...</td>\n",
       "      <td>Mr Marchionne, who only joined the company las...</td>\n",
       "      <td>As part of a major restructuring, Fiat is to i...</td>\n",
       "    </tr>\n",
       "    <tr>\n",
       "      <th>1</th>\n",
       "      <td>Johnson uncertain about Euro bid. Jade Johnson...</td>\n",
       "      <td>\"It's the stress,\" said Johnson. Jade Johnson ...</td>\n",
       "      <td>Jade Johnson is undecided about whether to con...</td>\n",
       "    </tr>\n",
       "    <tr>\n",
       "      <th>2</th>\n",
       "      <td>Cage film's third week at US top. Nicolas Cage...</td>\n",
       "      <td>National Treasure, which sees Cage's character...</td>\n",
       "      <td>The Polar Express entered in third place while...</td>\n",
       "    </tr>\n",
       "    <tr>\n",
       "      <th>3</th>\n",
       "      <td>McConnell details Scots wave toll. At least th...</td>\n",
       "      <td>At least three people from Scotland died in th...</td>\n",
       "      <td>Mr McConnell went on to promise that Scotland ...</td>\n",
       "    </tr>\n",
       "    <tr>\n",
       "      <th>4</th>\n",
       "      <td>Ministers lose slopping out case. The Scottish...</td>\n",
       "      <td>Executive ministers raised an appeal arguing t...</td>\n",
       "      <td>Napier said that the practice, where prisoners...</td>\n",
       "    </tr>\n",
       "  </tbody>\n",
       "</table>\n",
       "</div>"
      ],
      "text/plain": [
       "                                                text  \\\n",
       "0  Fiat chief takes steering wheel. The chief exe...   \n",
       "1  Johnson uncertain about Euro bid. Jade Johnson...   \n",
       "2  Cage film's third week at US top. Nicolas Cage...   \n",
       "3  McConnell details Scots wave toll. At least th...   \n",
       "4  Ministers lose slopping out case. The Scottish...   \n",
       "\n",
       "                                             summary  \\\n",
       "0  Mr Marchionne, who only joined the company las...   \n",
       "1  \"It's the stress,\" said Johnson. Jade Johnson ...   \n",
       "2  National Treasure, which sees Cage's character...   \n",
       "3  At least three people from Scotland died in th...   \n",
       "4  Executive ministers raised an appeal arguing t...   \n",
       "\n",
       "                                         lsa_summary  \n",
       "0  As part of a major restructuring, Fiat is to i...  \n",
       "1  Jade Johnson is undecided about whether to con...  \n",
       "2  The Polar Express entered in third place while...  \n",
       "3  Mr McConnell went on to promise that Scotland ...  \n",
       "4  Napier said that the practice, where prisoners...  "
      ]
     },
     "execution_count": 15,
     "metadata": {},
     "output_type": "execute_result"
    }
   ],
   "source": [
    "data.head()"
   ]
  },
  {
   "cell_type": "markdown",
   "id": "0faf6873",
   "metadata": {},
   "source": [
    "### Rogue Scores"
   ]
  },
  {
   "cell_type": "code",
   "execution_count": 16,
   "id": "1aca114c",
   "metadata": {},
   "outputs": [],
   "source": [
    "results_lsa = calc_rouge(data, 'summary', 'lsa_summary')\n",
    "results_lsa.columns = ['rouge-1_lsa', 'rouge-2_lsa', 'rouge-l_lsa']"
   ]
  },
  {
   "cell_type": "markdown",
   "id": "e2dc76c0",
   "metadata": {},
   "source": [
    "#### Average"
   ]
  },
  {
   "cell_type": "code",
   "execution_count": 17,
   "id": "fa3af021",
   "metadata": {},
   "outputs": [
    {
     "name": "stdout",
     "output_type": "stream",
     "text": [
      "LSA\n",
      "Average rouge-1 score:  0.6374854982722293\n",
      "Average rouge-2 score:  0.49569814976884197\n",
      "Average rouge-l score:  0.6216293821422859\n"
     ]
    }
   ],
   "source": [
    "avg_r1, avg_r2, avg_rL = avg_rouge(results_lsa, 'rouge-1_lsa', 'rouge-2_lsa', 'rouge-l_lsa')\n",
    "print('LSA')\n",
    "print('Average rouge-1 score: ', avg_r1)\n",
    "print('Average rouge-2 score: ', avg_r2)\n",
    "print('Average rouge-l score: ', avg_rL)"
   ]
  },
  {
   "cell_type": "code",
   "execution_count": 18,
   "id": "524e6ffe-649f-42ef-905f-3fe67c7907d3",
   "metadata": {},
   "outputs": [],
   "source": [
    "avg_rogue_lsa  = avg_rL"
   ]
  },
  {
   "cell_type": "markdown",
   "id": "c97269e7",
   "metadata": {},
   "source": [
    "## 2) LexRank Summarizer"
   ]
  },
  {
   "cell_type": "code",
   "execution_count": 19,
   "id": "99505e06",
   "metadata": {},
   "outputs": [],
   "source": [
    "data['lexrank_summary'] = data['text'].apply(lambda x: summarizer(x, 3, LexRankSummarizer))"
   ]
  },
  {
   "cell_type": "code",
   "execution_count": 20,
   "id": "f1359dbd",
   "metadata": {},
   "outputs": [
    {
     "data": {
      "text/html": [
       "<div>\n",
       "<style scoped>\n",
       "    .dataframe tbody tr th:only-of-type {\n",
       "        vertical-align: middle;\n",
       "    }\n",
       "\n",
       "    .dataframe tbody tr th {\n",
       "        vertical-align: top;\n",
       "    }\n",
       "\n",
       "    .dataframe thead th {\n",
       "        text-align: right;\n",
       "    }\n",
       "</style>\n",
       "<table border=\"1\" class=\"dataframe\">\n",
       "  <thead>\n",
       "    <tr style=\"text-align: right;\">\n",
       "      <th></th>\n",
       "      <th>text</th>\n",
       "      <th>summary</th>\n",
       "      <th>lsa_summary</th>\n",
       "      <th>lexrank_summary</th>\n",
       "    </tr>\n",
       "  </thead>\n",
       "  <tbody>\n",
       "    <tr>\n",
       "      <th>0</th>\n",
       "      <td>Fiat chief takes steering wheel. The chief exe...</td>\n",
       "      <td>Mr Marchionne, who only joined the company las...</td>\n",
       "      <td>As part of a major restructuring, Fiat is to i...</td>\n",
       "      <td>Sergio Marchionne has replaced Herbert Demel a...</td>\n",
       "    </tr>\n",
       "    <tr>\n",
       "      <th>1</th>\n",
       "      <td>Johnson uncertain about Euro bid. Jade Johnson...</td>\n",
       "      <td>\"It's the stress,\" said Johnson. Jade Johnson ...</td>\n",
       "      <td>Jade Johnson is undecided about whether to con...</td>\n",
       "      <td>Johnson uncertain about Euro bid. \"I don't wan...</td>\n",
       "    </tr>\n",
       "    <tr>\n",
       "      <th>2</th>\n",
       "      <td>Cage film's third week at US top. Nicolas Cage...</td>\n",
       "      <td>National Treasure, which sees Cage's character...</td>\n",
       "      <td>The Polar Express entered in third place while...</td>\n",
       "      <td>Cage film's third week at US top. Nicolas Cage...</td>\n",
       "    </tr>\n",
       "    <tr>\n",
       "      <th>3</th>\n",
       "      <td>McConnell details Scots wave toll. At least th...</td>\n",
       "      <td>At least three people from Scotland died in th...</td>\n",
       "      <td>Mr McConnell went on to promise that Scotland ...</td>\n",
       "      <td>He formally expressed Scotland's sympathy for ...</td>\n",
       "    </tr>\n",
       "    <tr>\n",
       "      <th>4</th>\n",
       "      <td>Ministers lose slopping out case. The Scottish...</td>\n",
       "      <td>Executive ministers raised an appeal arguing t...</td>\n",
       "      <td>Napier said that the practice, where prisoners...</td>\n",
       "      <td>Ministers lose slopping out case. On Thursday,...</td>\n",
       "    </tr>\n",
       "  </tbody>\n",
       "</table>\n",
       "</div>"
      ],
      "text/plain": [
       "                                                text  \\\n",
       "0  Fiat chief takes steering wheel. The chief exe...   \n",
       "1  Johnson uncertain about Euro bid. Jade Johnson...   \n",
       "2  Cage film's third week at US top. Nicolas Cage...   \n",
       "3  McConnell details Scots wave toll. At least th...   \n",
       "4  Ministers lose slopping out case. The Scottish...   \n",
       "\n",
       "                                             summary  \\\n",
       "0  Mr Marchionne, who only joined the company las...   \n",
       "1  \"It's the stress,\" said Johnson. Jade Johnson ...   \n",
       "2  National Treasure, which sees Cage's character...   \n",
       "3  At least three people from Scotland died in th...   \n",
       "4  Executive ministers raised an appeal arguing t...   \n",
       "\n",
       "                                         lsa_summary  \\\n",
       "0  As part of a major restructuring, Fiat is to i...   \n",
       "1  Jade Johnson is undecided about whether to con...   \n",
       "2  The Polar Express entered in third place while...   \n",
       "3  Mr McConnell went on to promise that Scotland ...   \n",
       "4  Napier said that the practice, where prisoners...   \n",
       "\n",
       "                                     lexrank_summary  \n",
       "0  Sergio Marchionne has replaced Herbert Demel a...  \n",
       "1  Johnson uncertain about Euro bid. \"I don't wan...  \n",
       "2  Cage film's third week at US top. Nicolas Cage...  \n",
       "3  He formally expressed Scotland's sympathy for ...  \n",
       "4  Ministers lose slopping out case. On Thursday,...  "
      ]
     },
     "execution_count": 20,
     "metadata": {},
     "output_type": "execute_result"
    }
   ],
   "source": [
    "data.head()"
   ]
  },
  {
   "cell_type": "markdown",
   "id": "abc939be",
   "metadata": {},
   "source": [
    "### Rogue Scores"
   ]
  },
  {
   "cell_type": "code",
   "execution_count": 21,
   "id": "c10183dd",
   "metadata": {},
   "outputs": [],
   "source": [
    "results_lexrank = calc_rouge(data, 'summary', 'lexrank_summary')\n",
    "results_lexrank.columns = ['rouge-1_lexrank', 'rouge-2_lexrank', 'rouge-l_lexrank']"
   ]
  },
  {
   "cell_type": "markdown",
   "id": "89573402",
   "metadata": {},
   "source": [
    "#### Average"
   ]
  },
  {
   "cell_type": "code",
   "execution_count": 22,
   "id": "4ccf4791",
   "metadata": {},
   "outputs": [
    {
     "name": "stdout",
     "output_type": "stream",
     "text": [
      "LexRank\n",
      "Average rouge-1 score:  0.7945737920338466\n",
      "Average rouge-2 score:  0.6919515595826836\n",
      "Average rouge-l score:  0.7830033923614866\n"
     ]
    }
   ],
   "source": [
    "avg_r1, avg_r2, avg_rL = avg_rouge(results_lexrank, 'rouge-1_lexrank', 'rouge-2_lexrank', 'rouge-l_lexrank')\n",
    "print(\"LexRank\")\n",
    "print('Average rouge-1 score: ', avg_r1)\n",
    "print('Average rouge-2 score: ', avg_r2)\n",
    "print('Average rouge-l score: ', avg_rL)"
   ]
  },
  {
   "cell_type": "code",
   "execution_count": 23,
   "id": "f568e928-bb8a-4dd6-ae83-4b011c6fca68",
   "metadata": {},
   "outputs": [],
   "source": [
    "avg_rogue_lexrank  = avg_rL"
   ]
  },
  {
   "cell_type": "markdown",
   "id": "f2236611",
   "metadata": {},
   "source": [
    "## 3) L.U.H.N Summarizer"
   ]
  },
  {
   "cell_type": "code",
   "execution_count": 24,
   "id": "c91e2cc3",
   "metadata": {},
   "outputs": [],
   "source": [
    "data['luhn_summary'] = data['text'].apply(lambda x: summarizer(x, 3, LuhnSummarizer))"
   ]
  },
  {
   "cell_type": "code",
   "execution_count": 25,
   "id": "c62dd918",
   "metadata": {},
   "outputs": [
    {
     "data": {
      "text/html": [
       "<div>\n",
       "<style scoped>\n",
       "    .dataframe tbody tr th:only-of-type {\n",
       "        vertical-align: middle;\n",
       "    }\n",
       "\n",
       "    .dataframe tbody tr th {\n",
       "        vertical-align: top;\n",
       "    }\n",
       "\n",
       "    .dataframe thead th {\n",
       "        text-align: right;\n",
       "    }\n",
       "</style>\n",
       "<table border=\"1\" class=\"dataframe\">\n",
       "  <thead>\n",
       "    <tr style=\"text-align: right;\">\n",
       "      <th></th>\n",
       "      <th>text</th>\n",
       "      <th>summary</th>\n",
       "      <th>lsa_summary</th>\n",
       "      <th>lexrank_summary</th>\n",
       "      <th>luhn_summary</th>\n",
       "    </tr>\n",
       "  </thead>\n",
       "  <tbody>\n",
       "    <tr>\n",
       "      <th>0</th>\n",
       "      <td>Fiat chief takes steering wheel. The chief exe...</td>\n",
       "      <td>Mr Marchionne, who only joined the company las...</td>\n",
       "      <td>As part of a major restructuring, Fiat is to i...</td>\n",
       "      <td>Sergio Marchionne has replaced Herbert Demel a...</td>\n",
       "      <td>Sergio Marchionne has replaced Herbert Demel a...</td>\n",
       "    </tr>\n",
       "    <tr>\n",
       "      <th>1</th>\n",
       "      <td>Johnson uncertain about Euro bid. Jade Johnson...</td>\n",
       "      <td>\"It's the stress,\" said Johnson. Jade Johnson ...</td>\n",
       "      <td>Jade Johnson is undecided about whether to con...</td>\n",
       "      <td>Johnson uncertain about Euro bid. \"I don't wan...</td>\n",
       "      <td>\"I will have to see how I am jumping in the ne...</td>\n",
       "    </tr>\n",
       "    <tr>\n",
       "      <th>2</th>\n",
       "      <td>Cage film's third week at US top. Nicolas Cage...</td>\n",
       "      <td>National Treasure, which sees Cage's character...</td>\n",
       "      <td>The Polar Express entered in third place while...</td>\n",
       "      <td>Cage film's third week at US top. Nicolas Cage...</td>\n",
       "      <td>Cage film's third week at US top. Nicolas Cage...</td>\n",
       "    </tr>\n",
       "    <tr>\n",
       "      <th>3</th>\n",
       "      <td>McConnell details Scots wave toll. At least th...</td>\n",
       "      <td>At least three people from Scotland died in th...</td>\n",
       "      <td>Mr McConnell went on to promise that Scotland ...</td>\n",
       "      <td>He formally expressed Scotland's sympathy for ...</td>\n",
       "      <td>At least three people from Scotland died in th...</td>\n",
       "    </tr>\n",
       "    <tr>\n",
       "      <th>4</th>\n",
       "      <td>Ministers lose slopping out case. The Scottish...</td>\n",
       "      <td>Executive ministers raised an appeal arguing t...</td>\n",
       "      <td>Napier said that the practice, where prisoners...</td>\n",
       "      <td>Ministers lose slopping out case. On Thursday,...</td>\n",
       "      <td>On Thursday, the Court of Session threw out a ...</td>\n",
       "    </tr>\n",
       "  </tbody>\n",
       "</table>\n",
       "</div>"
      ],
      "text/plain": [
       "                                                text  \\\n",
       "0  Fiat chief takes steering wheel. The chief exe...   \n",
       "1  Johnson uncertain about Euro bid. Jade Johnson...   \n",
       "2  Cage film's third week at US top. Nicolas Cage...   \n",
       "3  McConnell details Scots wave toll. At least th...   \n",
       "4  Ministers lose slopping out case. The Scottish...   \n",
       "\n",
       "                                             summary  \\\n",
       "0  Mr Marchionne, who only joined the company las...   \n",
       "1  \"It's the stress,\" said Johnson. Jade Johnson ...   \n",
       "2  National Treasure, which sees Cage's character...   \n",
       "3  At least three people from Scotland died in th...   \n",
       "4  Executive ministers raised an appeal arguing t...   \n",
       "\n",
       "                                         lsa_summary  \\\n",
       "0  As part of a major restructuring, Fiat is to i...   \n",
       "1  Jade Johnson is undecided about whether to con...   \n",
       "2  The Polar Express entered in third place while...   \n",
       "3  Mr McConnell went on to promise that Scotland ...   \n",
       "4  Napier said that the practice, where prisoners...   \n",
       "\n",
       "                                     lexrank_summary  \\\n",
       "0  Sergio Marchionne has replaced Herbert Demel a...   \n",
       "1  Johnson uncertain about Euro bid. \"I don't wan...   \n",
       "2  Cage film's third week at US top. Nicolas Cage...   \n",
       "3  He formally expressed Scotland's sympathy for ...   \n",
       "4  Ministers lose slopping out case. On Thursday,...   \n",
       "\n",
       "                                        luhn_summary  \n",
       "0  Sergio Marchionne has replaced Herbert Demel a...  \n",
       "1  \"I will have to see how I am jumping in the ne...  \n",
       "2  Cage film's third week at US top. Nicolas Cage...  \n",
       "3  At least three people from Scotland died in th...  \n",
       "4  On Thursday, the Court of Session threw out a ...  "
      ]
     },
     "execution_count": 25,
     "metadata": {},
     "output_type": "execute_result"
    }
   ],
   "source": [
    "data.head()"
   ]
  },
  {
   "cell_type": "markdown",
   "id": "84aa2b08",
   "metadata": {},
   "source": [
    "### Rogue Scores"
   ]
  },
  {
   "cell_type": "code",
   "execution_count": 26,
   "id": "52427be9",
   "metadata": {},
   "outputs": [],
   "source": [
    "results_luhn = calc_rouge(data, 'summary', 'luhn_summary')\n",
    "results_luhn.columns =['rouge-1_luhn', 'rouge-2_luhn', 'rouge-l_luhn']"
   ]
  },
  {
   "cell_type": "markdown",
   "id": "ef9fc1b7",
   "metadata": {},
   "source": [
    "#### Average"
   ]
  },
  {
   "cell_type": "code",
   "execution_count": 27,
   "id": "e9b45156",
   "metadata": {},
   "outputs": [
    {
     "name": "stdout",
     "output_type": "stream",
     "text": [
      "LUHN\n",
      "Average rouge-1 score:  0.7979187836783583\n",
      "Average rouge-2 score:  0.7079597331155932\n",
      "Average rogue-l score: 0.7876259116572806\n"
     ]
    }
   ],
   "source": [
    "avg_r1, avg_r2, avg_rL = avg_rouge(results_luhn, 'rouge-1_luhn', 'rouge-2_luhn', 'rouge-l_luhn')\n",
    "print(\"LUHN\")\n",
    "print('Average rouge-1 score: ', avg_r1)\n",
    "print('Average rouge-2 score: ', avg_r2)\n",
    "print('Average rogue-l score:', avg_rL)"
   ]
  },
  {
   "cell_type": "code",
   "execution_count": 28,
   "id": "afc945fe-bcb6-4c57-86fb-9ca08941c391",
   "metadata": {},
   "outputs": [],
   "source": [
    "avg_rogue_luhn = avg_rL"
   ]
  },
  {
   "cell_type": "markdown",
   "id": "51876261",
   "metadata": {},
   "source": [
    "## 4) SumBasic Summarizer Summarizer"
   ]
  },
  {
   "cell_type": "code",
   "execution_count": 29,
   "id": "0831aecc",
   "metadata": {},
   "outputs": [],
   "source": [
    "data['sum_basic_summary'] = data['text'].apply(lambda x: summarizer(x, 3, SumBasicSummarizer))"
   ]
  },
  {
   "cell_type": "code",
   "execution_count": 30,
   "id": "c1572f6a",
   "metadata": {},
   "outputs": [
    {
     "data": {
      "text/html": [
       "<div>\n",
       "<style scoped>\n",
       "    .dataframe tbody tr th:only-of-type {\n",
       "        vertical-align: middle;\n",
       "    }\n",
       "\n",
       "    .dataframe tbody tr th {\n",
       "        vertical-align: top;\n",
       "    }\n",
       "\n",
       "    .dataframe thead th {\n",
       "        text-align: right;\n",
       "    }\n",
       "</style>\n",
       "<table border=\"1\" class=\"dataframe\">\n",
       "  <thead>\n",
       "    <tr style=\"text-align: right;\">\n",
       "      <th></th>\n",
       "      <th>text</th>\n",
       "      <th>summary</th>\n",
       "      <th>lsa_summary</th>\n",
       "      <th>lexrank_summary</th>\n",
       "      <th>luhn_summary</th>\n",
       "      <th>sum_basic_summary</th>\n",
       "    </tr>\n",
       "  </thead>\n",
       "  <tbody>\n",
       "    <tr>\n",
       "      <th>0</th>\n",
       "      <td>Fiat chief takes steering wheel. The chief exe...</td>\n",
       "      <td>Mr Marchionne, who only joined the company las...</td>\n",
       "      <td>As part of a major restructuring, Fiat is to i...</td>\n",
       "      <td>Sergio Marchionne has replaced Herbert Demel a...</td>\n",
       "      <td>Sergio Marchionne has replaced Herbert Demel a...</td>\n",
       "      <td>Sergio Marchionne has replaced Herbert Demel a...</td>\n",
       "    </tr>\n",
       "    <tr>\n",
       "      <th>1</th>\n",
       "      <td>Johnson uncertain about Euro bid. Jade Johnson...</td>\n",
       "      <td>\"It's the stress,\" said Johnson. Jade Johnson ...</td>\n",
       "      <td>Jade Johnson is undecided about whether to con...</td>\n",
       "      <td>Johnson uncertain about Euro bid. \"I don't wan...</td>\n",
       "      <td>\"I will have to see how I am jumping in the ne...</td>\n",
       "      <td>And the Commonwealth and European silver medal...</td>\n",
       "    </tr>\n",
       "    <tr>\n",
       "      <th>2</th>\n",
       "      <td>Cage film's third week at US top. Nicolas Cage...</td>\n",
       "      <td>National Treasure, which sees Cage's character...</td>\n",
       "      <td>The Polar Express entered in third place while...</td>\n",
       "      <td>Cage film's third week at US top. Nicolas Cage...</td>\n",
       "      <td>Cage film's third week at US top. Nicolas Cage...</td>\n",
       "      <td>Nicolas Cage movie National Treasure has toppe...</td>\n",
       "    </tr>\n",
       "    <tr>\n",
       "      <th>3</th>\n",
       "      <td>McConnell details Scots wave toll. At least th...</td>\n",
       "      <td>At least three people from Scotland died in th...</td>\n",
       "      <td>Mr McConnell went on to promise that Scotland ...</td>\n",
       "      <td>He formally expressed Scotland's sympathy for ...</td>\n",
       "      <td>At least three people from Scotland died in th...</td>\n",
       "      <td>McConnell details Scots wave toll. The Scottis...</td>\n",
       "    </tr>\n",
       "    <tr>\n",
       "      <th>4</th>\n",
       "      <td>Ministers lose slopping out case. The Scottish...</td>\n",
       "      <td>Executive ministers raised an appeal arguing t...</td>\n",
       "      <td>Napier said that the practice, where prisoners...</td>\n",
       "      <td>Ministers lose slopping out case. On Thursday,...</td>\n",
       "      <td>On Thursday, the Court of Session threw out a ...</td>\n",
       "      <td>Ministers lose slopping out case. On Thursday,...</td>\n",
       "    </tr>\n",
       "  </tbody>\n",
       "</table>\n",
       "</div>"
      ],
      "text/plain": [
       "                                                text  \\\n",
       "0  Fiat chief takes steering wheel. The chief exe...   \n",
       "1  Johnson uncertain about Euro bid. Jade Johnson...   \n",
       "2  Cage film's third week at US top. Nicolas Cage...   \n",
       "3  McConnell details Scots wave toll. At least th...   \n",
       "4  Ministers lose slopping out case. The Scottish...   \n",
       "\n",
       "                                             summary  \\\n",
       "0  Mr Marchionne, who only joined the company las...   \n",
       "1  \"It's the stress,\" said Johnson. Jade Johnson ...   \n",
       "2  National Treasure, which sees Cage's character...   \n",
       "3  At least three people from Scotland died in th...   \n",
       "4  Executive ministers raised an appeal arguing t...   \n",
       "\n",
       "                                         lsa_summary  \\\n",
       "0  As part of a major restructuring, Fiat is to i...   \n",
       "1  Jade Johnson is undecided about whether to con...   \n",
       "2  The Polar Express entered in third place while...   \n",
       "3  Mr McConnell went on to promise that Scotland ...   \n",
       "4  Napier said that the practice, where prisoners...   \n",
       "\n",
       "                                     lexrank_summary  \\\n",
       "0  Sergio Marchionne has replaced Herbert Demel a...   \n",
       "1  Johnson uncertain about Euro bid. \"I don't wan...   \n",
       "2  Cage film's third week at US top. Nicolas Cage...   \n",
       "3  He formally expressed Scotland's sympathy for ...   \n",
       "4  Ministers lose slopping out case. On Thursday,...   \n",
       "\n",
       "                                        luhn_summary  \\\n",
       "0  Sergio Marchionne has replaced Herbert Demel a...   \n",
       "1  \"I will have to see how I am jumping in the ne...   \n",
       "2  Cage film's third week at US top. Nicolas Cage...   \n",
       "3  At least three people from Scotland died in th...   \n",
       "4  On Thursday, the Court of Session threw out a ...   \n",
       "\n",
       "                                   sum_basic_summary  \n",
       "0  Sergio Marchionne has replaced Herbert Demel a...  \n",
       "1  And the Commonwealth and European silver medal...  \n",
       "2  Nicolas Cage movie National Treasure has toppe...  \n",
       "3  McConnell details Scots wave toll. The Scottis...  \n",
       "4  Ministers lose slopping out case. On Thursday,...  "
      ]
     },
     "execution_count": 30,
     "metadata": {},
     "output_type": "execute_result"
    }
   ],
   "source": [
    "data.head()"
   ]
  },
  {
   "cell_type": "markdown",
   "id": "fd30b39e",
   "metadata": {},
   "source": [
    "### Rogue Scores"
   ]
  },
  {
   "cell_type": "code",
   "execution_count": 31,
   "id": "a7b389af",
   "metadata": {},
   "outputs": [],
   "source": [
    "results_sum_basic = calc_rouge(data, 'summary', 'sum_basic_summary')\n",
    "results_sum_basic.columns = ['rouge-1_sum_basic', 'rouge-2_sum_basic', 'rouge-l_sum_basic']"
   ]
  },
  {
   "cell_type": "markdown",
   "id": "f425f53f",
   "metadata": {},
   "source": [
    "#### Average"
   ]
  },
  {
   "cell_type": "code",
   "execution_count": 32,
   "id": "c0aa8839",
   "metadata": {},
   "outputs": [
    {
     "name": "stdout",
     "output_type": "stream",
     "text": [
      "SumBasic\n",
      "Average rouge-1 score:  0.6773055612940571\n",
      "Average rogue-2 score: 0.49114968798922354\n",
      "Average rogue-l score: 0.6579374370653842\n"
     ]
    }
   ],
   "source": [
    "avg_r1, avg_r2, avg_rL = avg_rouge(results_sum_basic, 'rouge-1_sum_basic', 'rouge-2_sum_basic', 'rouge-l_sum_basic')\n",
    "print('SumBasic')\n",
    "print('Average rouge-1 score: ', avg_r1)\n",
    "print('Average rogue-2 score:', avg_r2)\n",
    "print('Average rogue-l score:', avg_rL)"
   ]
  },
  {
   "cell_type": "code",
   "execution_count": 33,
   "id": "d6ae1cfd-dc9d-4c14-84e7-a8d4b8aad714",
   "metadata": {},
   "outputs": [],
   "source": [
    "avg_rogue_sb = avg_rL"
   ]
  },
  {
   "cell_type": "markdown",
   "id": "a160a409",
   "metadata": {},
   "source": [
    "# Joining Tables"
   ]
  },
  {
   "cell_type": "code",
   "execution_count": 34,
   "id": "80ff456e",
   "metadata": {},
   "outputs": [],
   "source": [
    "results = pd.concat([results_lsa, results_lexrank, results_luhn, results_sum_basic], axis=1)\n",
    "data_con = pd.concat([data, results], axis = 1)"
   ]
  },
  {
   "cell_type": "code",
   "execution_count": 35,
   "id": "00ffe53c",
   "metadata": {},
   "outputs": [
    {
     "data": {
      "text/html": [
       "<div>\n",
       "<style scoped>\n",
       "    .dataframe tbody tr th:only-of-type {\n",
       "        vertical-align: middle;\n",
       "    }\n",
       "\n",
       "    .dataframe tbody tr th {\n",
       "        vertical-align: top;\n",
       "    }\n",
       "\n",
       "    .dataframe thead th {\n",
       "        text-align: right;\n",
       "    }\n",
       "</style>\n",
       "<table border=\"1\" class=\"dataframe\">\n",
       "  <thead>\n",
       "    <tr style=\"text-align: right;\">\n",
       "      <th></th>\n",
       "      <th>text</th>\n",
       "      <th>summary</th>\n",
       "      <th>lsa_summary</th>\n",
       "      <th>lexrank_summary</th>\n",
       "      <th>luhn_summary</th>\n",
       "      <th>sum_basic_summary</th>\n",
       "      <th>rouge-1_lsa</th>\n",
       "      <th>rouge-2_lsa</th>\n",
       "      <th>rouge-l_lsa</th>\n",
       "      <th>rouge-1_lexrank</th>\n",
       "      <th>rouge-2_lexrank</th>\n",
       "      <th>rouge-l_lexrank</th>\n",
       "      <th>rouge-1_luhn</th>\n",
       "      <th>rouge-2_luhn</th>\n",
       "      <th>rouge-l_luhn</th>\n",
       "      <th>rouge-1_sum_basic</th>\n",
       "      <th>rouge-2_sum_basic</th>\n",
       "      <th>rouge-l_sum_basic</th>\n",
       "    </tr>\n",
       "  </thead>\n",
       "  <tbody>\n",
       "    <tr>\n",
       "      <th>0</th>\n",
       "      <td>Fiat chief takes steering wheel. The chief exe...</td>\n",
       "      <td>Mr Marchionne, who only joined the company las...</td>\n",
       "      <td>As part of a major restructuring, Fiat is to i...</td>\n",
       "      <td>Sergio Marchionne has replaced Herbert Demel a...</td>\n",
       "      <td>Sergio Marchionne has replaced Herbert Demel a...</td>\n",
       "      <td>Sergio Marchionne has replaced Herbert Demel a...</td>\n",
       "      <td>{'r': 0.5454545454545454, 'p': 0.2970297029702...</td>\n",
       "      <td>{'r': 0.3582089552238806, 'p': 0.1655172413793...</td>\n",
       "      <td>{'r': 0.5454545454545454, 'p': 0.2970297029702...</td>\n",
       "      <td>{'r': 0.6981132075471698, 'p': 0.3663366336633...</td>\n",
       "      <td>{'r': 0.625, 'p': 0.27586206896551724, 'f': 0....</td>\n",
       "      <td>{'r': 0.6981132075471698, 'p': 0.3663366336633...</td>\n",
       "      <td>{'r': 0.5098039215686274, 'p': 0.2574257425742...</td>\n",
       "      <td>{'r': 0.3181818181818182, 'p': 0.1448275862068...</td>\n",
       "      <td>{'r': 0.5098039215686274, 'p': 0.2574257425742...</td>\n",
       "      <td>{'r': 0.7142857142857143, 'p': 0.2970297029702...</td>\n",
       "      <td>{'r': 0.5471698113207547, 'p': 0.2, 'f': 0.292...</td>\n",
       "      <td>{'r': 0.7142857142857143, 'p': 0.2970297029702...</td>\n",
       "    </tr>\n",
       "    <tr>\n",
       "      <th>1</th>\n",
       "      <td>Johnson uncertain about Euro bid. Jade Johnson...</td>\n",
       "      <td>\"It's the stress,\" said Johnson. Jade Johnson ...</td>\n",
       "      <td>Jade Johnson is undecided about whether to con...</td>\n",
       "      <td>Johnson uncertain about Euro bid. \"I don't wan...</td>\n",
       "      <td>\"I will have to see how I am jumping in the ne...</td>\n",
       "      <td>And the Commonwealth and European silver medal...</td>\n",
       "      <td>{'r': 0.7111111111111111, 'p': 0.6274509803921...</td>\n",
       "      <td>{'r': 0.68, 'p': 0.5396825396825397, 'f': 0.60...</td>\n",
       "      <td>{'r': 0.7111111111111111, 'p': 0.6274509803921...</td>\n",
       "      <td>{'r': 0.5, 'p': 0.3333333333333333, 'f': 0.399...</td>\n",
       "      <td>{'r': 0.39473684210526316, 'p': 0.238095238095...</td>\n",
       "      <td>{'r': 0.47058823529411764, 'p': 0.313725490196...</td>\n",
       "      <td>{'r': 0.2553191489361702, 'p': 0.2352941176470...</td>\n",
       "      <td>{'r': 0.034482758620689655, 'p': 0.03174603174...</td>\n",
       "      <td>{'r': 0.2127659574468085, 'p': 0.1960784313725...</td>\n",
       "      <td>{'r': 0.41379310344827586, 'p': 0.235294117647...</td>\n",
       "      <td>{'r': 0.21212121212121213, 'p': 0.111111111111...</td>\n",
       "      <td>{'r': 0.41379310344827586, 'p': 0.235294117647...</td>\n",
       "    </tr>\n",
       "    <tr>\n",
       "      <th>2</th>\n",
       "      <td>Cage film's third week at US top. Nicolas Cage...</td>\n",
       "      <td>National Treasure, which sees Cage's character...</td>\n",
       "      <td>The Polar Express entered in third place while...</td>\n",
       "      <td>Cage film's third week at US top. Nicolas Cage...</td>\n",
       "      <td>Cage film's third week at US top. Nicolas Cage...</td>\n",
       "      <td>Nicolas Cage movie National Treasure has toppe...</td>\n",
       "      <td>{'r': 0.7833333333333333, 'p': 0.6025641025641...</td>\n",
       "      <td>{'r': 0.6935483870967742, 'p': 0.4831460674157...</td>\n",
       "      <td>{'r': 0.7833333333333333, 'p': 0.6025641025641...</td>\n",
       "      <td>{'r': 0.9302325581395349, 'p': 0.5128205128205...</td>\n",
       "      <td>{'r': 0.86, 'p': 0.48314606741573035, 'f': 0.6...</td>\n",
       "      <td>{'r': 0.9302325581395349, 'p': 0.5128205128205...</td>\n",
       "      <td>{'r': 0.9302325581395349, 'p': 0.5128205128205...</td>\n",
       "      <td>{'r': 0.86, 'p': 0.48314606741573035, 'f': 0.6...</td>\n",
       "      <td>{'r': 0.9302325581395349, 'p': 0.5128205128205...</td>\n",
       "      <td>{'r': 0.8113207547169812, 'p': 0.5512820512820...</td>\n",
       "      <td>{'r': 0.7166666666666667, 'p': 0.4831460674157...</td>\n",
       "      <td>{'r': 0.7924528301886793, 'p': 0.5384615384615...</td>\n",
       "    </tr>\n",
       "    <tr>\n",
       "      <th>3</th>\n",
       "      <td>McConnell details Scots wave toll. At least th...</td>\n",
       "      <td>At least three people from Scotland died in th...</td>\n",
       "      <td>Mr McConnell went on to promise that Scotland ...</td>\n",
       "      <td>He formally expressed Scotland's sympathy for ...</td>\n",
       "      <td>At least three people from Scotland died in th...</td>\n",
       "      <td>McConnell details Scots wave toll. The Scottis...</td>\n",
       "      <td>{'r': 0.74, 'p': 0.37373737373737376, 'f': 0.4...</td>\n",
       "      <td>{'r': 0.6842105263157895, 'p': 0.2708333333333...</td>\n",
       "      <td>{'r': 0.7, 'p': 0.35353535353535354, 'f': 0.46...</td>\n",
       "      <td>{'r': 0.828125, 'p': 0.5353535353535354, 'f': ...</td>\n",
       "      <td>{'r': 0.7974683544303798, 'p': 0.4375, 'f': 0....</td>\n",
       "      <td>{'r': 0.828125, 'p': 0.5353535353535354, 'f': ...</td>\n",
       "      <td>{'r': 1.0, 'p': 0.5656565656565656, 'f': 0.722...</td>\n",
       "      <td>{'r': 0.9861111111111112, 'p': 0.4930555555555...</td>\n",
       "      <td>{'r': 1.0, 'p': 0.5656565656565656, 'f': 0.722...</td>\n",
       "      <td>{'r': 0.6857142857142857, 'p': 0.2424242424242...</td>\n",
       "      <td>{'r': 0.631578947368421, 'p': 0.16666666666666...</td>\n",
       "      <td>{'r': 0.6571428571428571, 'p': 0.2323232323232...</td>\n",
       "    </tr>\n",
       "    <tr>\n",
       "      <th>4</th>\n",
       "      <td>Ministers lose slopping out case. The Scottish...</td>\n",
       "      <td>Executive ministers raised an appeal arguing t...</td>\n",
       "      <td>Napier said that the practice, where prisoners...</td>\n",
       "      <td>Ministers lose slopping out case. On Thursday,...</td>\n",
       "      <td>On Thursday, the Court of Session threw out a ...</td>\n",
       "      <td>Ministers lose slopping out case. On Thursday,...</td>\n",
       "      <td>{'r': 1.0, 'p': 0.5, 'f': 0.6666666622222223}</td>\n",
       "      <td>{'r': 0.971830985915493, 'p': 0.37912087912087...</td>\n",
       "      <td>{'r': 1.0, 'p': 0.5, 'f': 0.6666666622222223}</td>\n",
       "      <td>{'r': 0.9375, 'p': 0.22727272727272727, 'f': 0...</td>\n",
       "      <td>{'r': 0.8888888888888888, 'p': 0.1758241758241...</td>\n",
       "      <td>{'r': 0.9375, 'p': 0.22727272727272727, 'f': 0...</td>\n",
       "      <td>{'r': 1.0, 'p': 0.49242424242424243, 'f': 0.65...</td>\n",
       "      <td>{'r': 0.975609756097561, 'p': 0.43956043956043...</td>\n",
       "      <td>{'r': 1.0, 'p': 0.49242424242424243, 'f': 0.65...</td>\n",
       "      <td>{'r': 0.7666666666666667, 'p': 0.1742424242424...</td>\n",
       "      <td>{'r': 0.6666666666666666, 'p': 0.1318681318681...</td>\n",
       "      <td>{'r': 0.7333333333333333, 'p': 0.1666666666666...</td>\n",
       "    </tr>\n",
       "  </tbody>\n",
       "</table>\n",
       "</div>"
      ],
      "text/plain": [
       "                                                text  \\\n",
       "0  Fiat chief takes steering wheel. The chief exe...   \n",
       "1  Johnson uncertain about Euro bid. Jade Johnson...   \n",
       "2  Cage film's third week at US top. Nicolas Cage...   \n",
       "3  McConnell details Scots wave toll. At least th...   \n",
       "4  Ministers lose slopping out case. The Scottish...   \n",
       "\n",
       "                                             summary  \\\n",
       "0  Mr Marchionne, who only joined the company las...   \n",
       "1  \"It's the stress,\" said Johnson. Jade Johnson ...   \n",
       "2  National Treasure, which sees Cage's character...   \n",
       "3  At least three people from Scotland died in th...   \n",
       "4  Executive ministers raised an appeal arguing t...   \n",
       "\n",
       "                                         lsa_summary  \\\n",
       "0  As part of a major restructuring, Fiat is to i...   \n",
       "1  Jade Johnson is undecided about whether to con...   \n",
       "2  The Polar Express entered in third place while...   \n",
       "3  Mr McConnell went on to promise that Scotland ...   \n",
       "4  Napier said that the practice, where prisoners...   \n",
       "\n",
       "                                     lexrank_summary  \\\n",
       "0  Sergio Marchionne has replaced Herbert Demel a...   \n",
       "1  Johnson uncertain about Euro bid. \"I don't wan...   \n",
       "2  Cage film's third week at US top. Nicolas Cage...   \n",
       "3  He formally expressed Scotland's sympathy for ...   \n",
       "4  Ministers lose slopping out case. On Thursday,...   \n",
       "\n",
       "                                        luhn_summary  \\\n",
       "0  Sergio Marchionne has replaced Herbert Demel a...   \n",
       "1  \"I will have to see how I am jumping in the ne...   \n",
       "2  Cage film's third week at US top. Nicolas Cage...   \n",
       "3  At least three people from Scotland died in th...   \n",
       "4  On Thursday, the Court of Session threw out a ...   \n",
       "\n",
       "                                   sum_basic_summary  \\\n",
       "0  Sergio Marchionne has replaced Herbert Demel a...   \n",
       "1  And the Commonwealth and European silver medal...   \n",
       "2  Nicolas Cage movie National Treasure has toppe...   \n",
       "3  McConnell details Scots wave toll. The Scottis...   \n",
       "4  Ministers lose slopping out case. On Thursday,...   \n",
       "\n",
       "                                         rouge-1_lsa  \\\n",
       "0  {'r': 0.5454545454545454, 'p': 0.2970297029702...   \n",
       "1  {'r': 0.7111111111111111, 'p': 0.6274509803921...   \n",
       "2  {'r': 0.7833333333333333, 'p': 0.6025641025641...   \n",
       "3  {'r': 0.74, 'p': 0.37373737373737376, 'f': 0.4...   \n",
       "4      {'r': 1.0, 'p': 0.5, 'f': 0.6666666622222223}   \n",
       "\n",
       "                                         rouge-2_lsa  \\\n",
       "0  {'r': 0.3582089552238806, 'p': 0.1655172413793...   \n",
       "1  {'r': 0.68, 'p': 0.5396825396825397, 'f': 0.60...   \n",
       "2  {'r': 0.6935483870967742, 'p': 0.4831460674157...   \n",
       "3  {'r': 0.6842105263157895, 'p': 0.2708333333333...   \n",
       "4  {'r': 0.971830985915493, 'p': 0.37912087912087...   \n",
       "\n",
       "                                         rouge-l_lsa  \\\n",
       "0  {'r': 0.5454545454545454, 'p': 0.2970297029702...   \n",
       "1  {'r': 0.7111111111111111, 'p': 0.6274509803921...   \n",
       "2  {'r': 0.7833333333333333, 'p': 0.6025641025641...   \n",
       "3  {'r': 0.7, 'p': 0.35353535353535354, 'f': 0.46...   \n",
       "4      {'r': 1.0, 'p': 0.5, 'f': 0.6666666622222223}   \n",
       "\n",
       "                                     rouge-1_lexrank  \\\n",
       "0  {'r': 0.6981132075471698, 'p': 0.3663366336633...   \n",
       "1  {'r': 0.5, 'p': 0.3333333333333333, 'f': 0.399...   \n",
       "2  {'r': 0.9302325581395349, 'p': 0.5128205128205...   \n",
       "3  {'r': 0.828125, 'p': 0.5353535353535354, 'f': ...   \n",
       "4  {'r': 0.9375, 'p': 0.22727272727272727, 'f': 0...   \n",
       "\n",
       "                                     rouge-2_lexrank  \\\n",
       "0  {'r': 0.625, 'p': 0.27586206896551724, 'f': 0....   \n",
       "1  {'r': 0.39473684210526316, 'p': 0.238095238095...   \n",
       "2  {'r': 0.86, 'p': 0.48314606741573035, 'f': 0.6...   \n",
       "3  {'r': 0.7974683544303798, 'p': 0.4375, 'f': 0....   \n",
       "4  {'r': 0.8888888888888888, 'p': 0.1758241758241...   \n",
       "\n",
       "                                     rouge-l_lexrank  \\\n",
       "0  {'r': 0.6981132075471698, 'p': 0.3663366336633...   \n",
       "1  {'r': 0.47058823529411764, 'p': 0.313725490196...   \n",
       "2  {'r': 0.9302325581395349, 'p': 0.5128205128205...   \n",
       "3  {'r': 0.828125, 'p': 0.5353535353535354, 'f': ...   \n",
       "4  {'r': 0.9375, 'p': 0.22727272727272727, 'f': 0...   \n",
       "\n",
       "                                        rouge-1_luhn  \\\n",
       "0  {'r': 0.5098039215686274, 'p': 0.2574257425742...   \n",
       "1  {'r': 0.2553191489361702, 'p': 0.2352941176470...   \n",
       "2  {'r': 0.9302325581395349, 'p': 0.5128205128205...   \n",
       "3  {'r': 1.0, 'p': 0.5656565656565656, 'f': 0.722...   \n",
       "4  {'r': 1.0, 'p': 0.49242424242424243, 'f': 0.65...   \n",
       "\n",
       "                                        rouge-2_luhn  \\\n",
       "0  {'r': 0.3181818181818182, 'p': 0.1448275862068...   \n",
       "1  {'r': 0.034482758620689655, 'p': 0.03174603174...   \n",
       "2  {'r': 0.86, 'p': 0.48314606741573035, 'f': 0.6...   \n",
       "3  {'r': 0.9861111111111112, 'p': 0.4930555555555...   \n",
       "4  {'r': 0.975609756097561, 'p': 0.43956043956043...   \n",
       "\n",
       "                                        rouge-l_luhn  \\\n",
       "0  {'r': 0.5098039215686274, 'p': 0.2574257425742...   \n",
       "1  {'r': 0.2127659574468085, 'p': 0.1960784313725...   \n",
       "2  {'r': 0.9302325581395349, 'p': 0.5128205128205...   \n",
       "3  {'r': 1.0, 'p': 0.5656565656565656, 'f': 0.722...   \n",
       "4  {'r': 1.0, 'p': 0.49242424242424243, 'f': 0.65...   \n",
       "\n",
       "                                   rouge-1_sum_basic  \\\n",
       "0  {'r': 0.7142857142857143, 'p': 0.2970297029702...   \n",
       "1  {'r': 0.41379310344827586, 'p': 0.235294117647...   \n",
       "2  {'r': 0.8113207547169812, 'p': 0.5512820512820...   \n",
       "3  {'r': 0.6857142857142857, 'p': 0.2424242424242...   \n",
       "4  {'r': 0.7666666666666667, 'p': 0.1742424242424...   \n",
       "\n",
       "                                   rouge-2_sum_basic  \\\n",
       "0  {'r': 0.5471698113207547, 'p': 0.2, 'f': 0.292...   \n",
       "1  {'r': 0.21212121212121213, 'p': 0.111111111111...   \n",
       "2  {'r': 0.7166666666666667, 'p': 0.4831460674157...   \n",
       "3  {'r': 0.631578947368421, 'p': 0.16666666666666...   \n",
       "4  {'r': 0.6666666666666666, 'p': 0.1318681318681...   \n",
       "\n",
       "                                   rouge-l_sum_basic  \n",
       "0  {'r': 0.7142857142857143, 'p': 0.2970297029702...  \n",
       "1  {'r': 0.41379310344827586, 'p': 0.235294117647...  \n",
       "2  {'r': 0.7924528301886793, 'p': 0.5384615384615...  \n",
       "3  {'r': 0.6571428571428571, 'p': 0.2323232323232...  \n",
       "4  {'r': 0.7333333333333333, 'p': 0.1666666666666...  "
      ]
     },
     "execution_count": 35,
     "metadata": {},
     "output_type": "execute_result"
    }
   ],
   "source": [
    "data_con.head()"
   ]
  },
  {
   "cell_type": "code",
   "execution_count": 36,
   "id": "4d7eca65",
   "metadata": {},
   "outputs": [
    {
     "data": {
      "text/plain": [
       "Index(['text', 'summary', 'lsa_summary', 'lexrank_summary', 'luhn_summary',\n",
       "       'sum_basic_summary', 'rouge-1_lsa', 'rouge-2_lsa', 'rouge-l_lsa',\n",
       "       'rouge-1_lexrank', 'rouge-2_lexrank', 'rouge-l_lexrank', 'rouge-1_luhn',\n",
       "       'rouge-2_luhn', 'rouge-l_luhn', 'rouge-1_sum_basic',\n",
       "       'rouge-2_sum_basic', 'rouge-l_sum_basic'],\n",
       "      dtype='object')"
      ]
     },
     "execution_count": 36,
     "metadata": {},
     "output_type": "execute_result"
    }
   ],
   "source": [
    "data_con.columns"
   ]
  },
  {
   "cell_type": "markdown",
   "id": "5d6c66ea",
   "metadata": {},
   "source": [
    "# Proposed Ensemble Extractive Approach using Weighted Voting"
   ]
  },
  {
   "cell_type": "code",
   "execution_count": 37,
   "id": "384fa3e5",
   "metadata": {},
   "outputs": [],
   "source": [
    "total_weight = avg_rogue_lsa + avg_rogue_lexrank + avg_rogue_luhn + avg_rogue_sb\n",
    "weight_lsa = avg_rogue_lsa/total_weight\n",
    "weight_lexrank = avg_rogue_lexrank/total_weight\n",
    "weight_luhn = avg_rogue_luhn/total_weight\n",
    "weight_sb = avg_rogue_sb/total_weight\n",
    "\n",
    "df_for_ensemble = data_con.copy()\n",
    "df_for_ensemble['ensemble_summary'] = df_for_ensemble.apply(lambda x: generate_ensemble_summary(x, weight_lsa, weight_lexrank, weight_luhn, weight_sb), axis=1)\n",
    "\n",
    "\n",
    "\n",
    "\n"
   ]
  },
  {
   "cell_type": "code",
   "execution_count": 38,
   "id": "b2dd7941",
   "metadata": {},
   "outputs": [
    {
     "data": {
      "text/html": [
       "<div>\n",
       "<style scoped>\n",
       "    .dataframe tbody tr th:only-of-type {\n",
       "        vertical-align: middle;\n",
       "    }\n",
       "\n",
       "    .dataframe tbody tr th {\n",
       "        vertical-align: top;\n",
       "    }\n",
       "\n",
       "    .dataframe thead th {\n",
       "        text-align: right;\n",
       "    }\n",
       "</style>\n",
       "<table border=\"1\" class=\"dataframe\">\n",
       "  <thead>\n",
       "    <tr style=\"text-align: right;\">\n",
       "      <th></th>\n",
       "      <th>text</th>\n",
       "      <th>summary</th>\n",
       "      <th>lsa_summary</th>\n",
       "      <th>lexrank_summary</th>\n",
       "      <th>luhn_summary</th>\n",
       "      <th>sum_basic_summary</th>\n",
       "      <th>rouge-1_lsa</th>\n",
       "      <th>rouge-2_lsa</th>\n",
       "      <th>rouge-l_lsa</th>\n",
       "      <th>rouge-1_lexrank</th>\n",
       "      <th>rouge-2_lexrank</th>\n",
       "      <th>rouge-l_lexrank</th>\n",
       "      <th>rouge-1_luhn</th>\n",
       "      <th>rouge-2_luhn</th>\n",
       "      <th>rouge-l_luhn</th>\n",
       "      <th>rouge-1_sum_basic</th>\n",
       "      <th>rouge-2_sum_basic</th>\n",
       "      <th>rouge-l_sum_basic</th>\n",
       "      <th>ensemble_summary</th>\n",
       "    </tr>\n",
       "  </thead>\n",
       "  <tbody>\n",
       "    <tr>\n",
       "      <th>0</th>\n",
       "      <td>Fiat chief takes steering wheel. The chief exe...</td>\n",
       "      <td>Mr Marchionne, who only joined the company las...</td>\n",
       "      <td>As part of a major restructuring, Fiat is to i...</td>\n",
       "      <td>Sergio Marchionne has replaced Herbert Demel a...</td>\n",
       "      <td>Sergio Marchionne has replaced Herbert Demel a...</td>\n",
       "      <td>Sergio Marchionne has replaced Herbert Demel a...</td>\n",
       "      <td>{'r': 0.5454545454545454, 'p': 0.2970297029702...</td>\n",
       "      <td>{'r': 0.3582089552238806, 'p': 0.1655172413793...</td>\n",
       "      <td>{'r': 0.5454545454545454, 'p': 0.2970297029702...</td>\n",
       "      <td>{'r': 0.6981132075471698, 'p': 0.3663366336633...</td>\n",
       "      <td>{'r': 0.625, 'p': 0.27586206896551724, 'f': 0....</td>\n",
       "      <td>{'r': 0.6981132075471698, 'p': 0.3663366336633...</td>\n",
       "      <td>{'r': 0.5098039215686274, 'p': 0.2574257425742...</td>\n",
       "      <td>{'r': 0.3181818181818182, 'p': 0.1448275862068...</td>\n",
       "      <td>{'r': 0.5098039215686274, 'p': 0.2574257425742...</td>\n",
       "      <td>{'r': 0.7142857142857143, 'p': 0.2970297029702...</td>\n",
       "      <td>{'r': 0.5471698113207547, 'p': 0.2, 'f': 0.292...</td>\n",
       "      <td>{'r': 0.7142857142857143, 'p': 0.2970297029702...</td>\n",
       "      <td>Sergio Marchionne has replaced Herbert Demel a...</td>\n",
       "    </tr>\n",
       "    <tr>\n",
       "      <th>1</th>\n",
       "      <td>Johnson uncertain about Euro bid. Jade Johnson...</td>\n",
       "      <td>\"It's the stress,\" said Johnson. Jade Johnson ...</td>\n",
       "      <td>Jade Johnson is undecided about whether to con...</td>\n",
       "      <td>Johnson uncertain about Euro bid. \"I don't wan...</td>\n",
       "      <td>\"I will have to see how I am jumping in the ne...</td>\n",
       "      <td>And the Commonwealth and European silver medal...</td>\n",
       "      <td>{'r': 0.7111111111111111, 'p': 0.6274509803921...</td>\n",
       "      <td>{'r': 0.68, 'p': 0.5396825396825397, 'f': 0.60...</td>\n",
       "      <td>{'r': 0.7111111111111111, 'p': 0.6274509803921...</td>\n",
       "      <td>{'r': 0.5, 'p': 0.3333333333333333, 'f': 0.399...</td>\n",
       "      <td>{'r': 0.39473684210526316, 'p': 0.238095238095...</td>\n",
       "      <td>{'r': 0.47058823529411764, 'p': 0.313725490196...</td>\n",
       "      <td>{'r': 0.2553191489361702, 'p': 0.2352941176470...</td>\n",
       "      <td>{'r': 0.034482758620689655, 'p': 0.03174603174...</td>\n",
       "      <td>{'r': 0.2127659574468085, 'p': 0.1960784313725...</td>\n",
       "      <td>{'r': 0.41379310344827586, 'p': 0.235294117647...</td>\n",
       "      <td>{'r': 0.21212121212121213, 'p': 0.111111111111...</td>\n",
       "      <td>{'r': 0.41379310344827586, 'p': 0.235294117647...</td>\n",
       "      <td>\"But if I'm doing this kind of thing, then I w...</td>\n",
       "    </tr>\n",
       "    <tr>\n",
       "      <th>2</th>\n",
       "      <td>Cage film's third week at US top. Nicolas Cage...</td>\n",
       "      <td>National Treasure, which sees Cage's character...</td>\n",
       "      <td>The Polar Express entered in third place while...</td>\n",
       "      <td>Cage film's third week at US top. Nicolas Cage...</td>\n",
       "      <td>Cage film's third week at US top. Nicolas Cage...</td>\n",
       "      <td>Nicolas Cage movie National Treasure has toppe...</td>\n",
       "      <td>{'r': 0.7833333333333333, 'p': 0.6025641025641...</td>\n",
       "      <td>{'r': 0.6935483870967742, 'p': 0.4831460674157...</td>\n",
       "      <td>{'r': 0.7833333333333333, 'p': 0.6025641025641...</td>\n",
       "      <td>{'r': 0.9302325581395349, 'p': 0.5128205128205...</td>\n",
       "      <td>{'r': 0.86, 'p': 0.48314606741573035, 'f': 0.6...</td>\n",
       "      <td>{'r': 0.9302325581395349, 'p': 0.5128205128205...</td>\n",
       "      <td>{'r': 0.9302325581395349, 'p': 0.5128205128205...</td>\n",
       "      <td>{'r': 0.86, 'p': 0.48314606741573035, 'f': 0.6...</td>\n",
       "      <td>{'r': 0.9302325581395349, 'p': 0.5128205128205...</td>\n",
       "      <td>{'r': 0.8113207547169812, 'p': 0.5512820512820...</td>\n",
       "      <td>{'r': 0.7166666666666667, 'p': 0.4831460674157...</td>\n",
       "      <td>{'r': 0.7924528301886793, 'p': 0.5384615384615...</td>\n",
       "      <td>Nicolas Cage movie National Treasure has toppe...</td>\n",
       "    </tr>\n",
       "    <tr>\n",
       "      <th>3</th>\n",
       "      <td>McConnell details Scots wave toll. At least th...</td>\n",
       "      <td>At least three people from Scotland died in th...</td>\n",
       "      <td>Mr McConnell went on to promise that Scotland ...</td>\n",
       "      <td>He formally expressed Scotland's sympathy for ...</td>\n",
       "      <td>At least three people from Scotland died in th...</td>\n",
       "      <td>McConnell details Scots wave toll. The Scottis...</td>\n",
       "      <td>{'r': 0.74, 'p': 0.37373737373737376, 'f': 0.4...</td>\n",
       "      <td>{'r': 0.6842105263157895, 'p': 0.2708333333333...</td>\n",
       "      <td>{'r': 0.7, 'p': 0.35353535353535354, 'f': 0.46...</td>\n",
       "      <td>{'r': 0.828125, 'p': 0.5353535353535354, 'f': ...</td>\n",
       "      <td>{'r': 0.7974683544303798, 'p': 0.4375, 'f': 0....</td>\n",
       "      <td>{'r': 0.828125, 'p': 0.5353535353535354, 'f': ...</td>\n",
       "      <td>{'r': 1.0, 'p': 0.5656565656565656, 'f': 0.722...</td>\n",
       "      <td>{'r': 0.9861111111111112, 'p': 0.4930555555555...</td>\n",
       "      <td>{'r': 1.0, 'p': 0.5656565656565656, 'f': 0.722...</td>\n",
       "      <td>{'r': 0.6857142857142857, 'p': 0.2424242424242...</td>\n",
       "      <td>{'r': 0.631578947368421, 'p': 0.16666666666666...</td>\n",
       "      <td>{'r': 0.6571428571428571, 'p': 0.2323232323232...</td>\n",
       "      <td>Mr McConnell went on to signal that the execut...</td>\n",
       "    </tr>\n",
       "    <tr>\n",
       "      <th>4</th>\n",
       "      <td>Ministers lose slopping out case. The Scottish...</td>\n",
       "      <td>Executive ministers raised an appeal arguing t...</td>\n",
       "      <td>Napier said that the practice, where prisoners...</td>\n",
       "      <td>Ministers lose slopping out case. On Thursday,...</td>\n",
       "      <td>On Thursday, the Court of Session threw out a ...</td>\n",
       "      <td>Ministers lose slopping out case. On Thursday,...</td>\n",
       "      <td>{'r': 1.0, 'p': 0.5, 'f': 0.6666666622222223}</td>\n",
       "      <td>{'r': 0.971830985915493, 'p': 0.37912087912087...</td>\n",
       "      <td>{'r': 1.0, 'p': 0.5, 'f': 0.6666666622222223}</td>\n",
       "      <td>{'r': 0.9375, 'p': 0.22727272727272727, 'f': 0...</td>\n",
       "      <td>{'r': 0.8888888888888888, 'p': 0.1758241758241...</td>\n",
       "      <td>{'r': 0.9375, 'p': 0.22727272727272727, 'f': 0...</td>\n",
       "      <td>{'r': 1.0, 'p': 0.49242424242424243, 'f': 0.65...</td>\n",
       "      <td>{'r': 0.975609756097561, 'p': 0.43956043956043...</td>\n",
       "      <td>{'r': 1.0, 'p': 0.49242424242424243, 'f': 0.65...</td>\n",
       "      <td>{'r': 0.7666666666666667, 'p': 0.1742424242424...</td>\n",
       "      <td>{'r': 0.6666666666666666, 'p': 0.1318681318681...</td>\n",
       "      <td>{'r': 0.7333333333333333, 'p': 0.1666666666666...</td>\n",
       "      <td>On Thursday, the Court of Session threw out a ...</td>\n",
       "    </tr>\n",
       "  </tbody>\n",
       "</table>\n",
       "</div>"
      ],
      "text/plain": [
       "                                                text  \\\n",
       "0  Fiat chief takes steering wheel. The chief exe...   \n",
       "1  Johnson uncertain about Euro bid. Jade Johnson...   \n",
       "2  Cage film's third week at US top. Nicolas Cage...   \n",
       "3  McConnell details Scots wave toll. At least th...   \n",
       "4  Ministers lose slopping out case. The Scottish...   \n",
       "\n",
       "                                             summary  \\\n",
       "0  Mr Marchionne, who only joined the company las...   \n",
       "1  \"It's the stress,\" said Johnson. Jade Johnson ...   \n",
       "2  National Treasure, which sees Cage's character...   \n",
       "3  At least three people from Scotland died in th...   \n",
       "4  Executive ministers raised an appeal arguing t...   \n",
       "\n",
       "                                         lsa_summary  \\\n",
       "0  As part of a major restructuring, Fiat is to i...   \n",
       "1  Jade Johnson is undecided about whether to con...   \n",
       "2  The Polar Express entered in third place while...   \n",
       "3  Mr McConnell went on to promise that Scotland ...   \n",
       "4  Napier said that the practice, where prisoners...   \n",
       "\n",
       "                                     lexrank_summary  \\\n",
       "0  Sergio Marchionne has replaced Herbert Demel a...   \n",
       "1  Johnson uncertain about Euro bid. \"I don't wan...   \n",
       "2  Cage film's third week at US top. Nicolas Cage...   \n",
       "3  He formally expressed Scotland's sympathy for ...   \n",
       "4  Ministers lose slopping out case. On Thursday,...   \n",
       "\n",
       "                                        luhn_summary  \\\n",
       "0  Sergio Marchionne has replaced Herbert Demel a...   \n",
       "1  \"I will have to see how I am jumping in the ne...   \n",
       "2  Cage film's third week at US top. Nicolas Cage...   \n",
       "3  At least three people from Scotland died in th...   \n",
       "4  On Thursday, the Court of Session threw out a ...   \n",
       "\n",
       "                                   sum_basic_summary  \\\n",
       "0  Sergio Marchionne has replaced Herbert Demel a...   \n",
       "1  And the Commonwealth and European silver medal...   \n",
       "2  Nicolas Cage movie National Treasure has toppe...   \n",
       "3  McConnell details Scots wave toll. The Scottis...   \n",
       "4  Ministers lose slopping out case. On Thursday,...   \n",
       "\n",
       "                                         rouge-1_lsa  \\\n",
       "0  {'r': 0.5454545454545454, 'p': 0.2970297029702...   \n",
       "1  {'r': 0.7111111111111111, 'p': 0.6274509803921...   \n",
       "2  {'r': 0.7833333333333333, 'p': 0.6025641025641...   \n",
       "3  {'r': 0.74, 'p': 0.37373737373737376, 'f': 0.4...   \n",
       "4      {'r': 1.0, 'p': 0.5, 'f': 0.6666666622222223}   \n",
       "\n",
       "                                         rouge-2_lsa  \\\n",
       "0  {'r': 0.3582089552238806, 'p': 0.1655172413793...   \n",
       "1  {'r': 0.68, 'p': 0.5396825396825397, 'f': 0.60...   \n",
       "2  {'r': 0.6935483870967742, 'p': 0.4831460674157...   \n",
       "3  {'r': 0.6842105263157895, 'p': 0.2708333333333...   \n",
       "4  {'r': 0.971830985915493, 'p': 0.37912087912087...   \n",
       "\n",
       "                                         rouge-l_lsa  \\\n",
       "0  {'r': 0.5454545454545454, 'p': 0.2970297029702...   \n",
       "1  {'r': 0.7111111111111111, 'p': 0.6274509803921...   \n",
       "2  {'r': 0.7833333333333333, 'p': 0.6025641025641...   \n",
       "3  {'r': 0.7, 'p': 0.35353535353535354, 'f': 0.46...   \n",
       "4      {'r': 1.0, 'p': 0.5, 'f': 0.6666666622222223}   \n",
       "\n",
       "                                     rouge-1_lexrank  \\\n",
       "0  {'r': 0.6981132075471698, 'p': 0.3663366336633...   \n",
       "1  {'r': 0.5, 'p': 0.3333333333333333, 'f': 0.399...   \n",
       "2  {'r': 0.9302325581395349, 'p': 0.5128205128205...   \n",
       "3  {'r': 0.828125, 'p': 0.5353535353535354, 'f': ...   \n",
       "4  {'r': 0.9375, 'p': 0.22727272727272727, 'f': 0...   \n",
       "\n",
       "                                     rouge-2_lexrank  \\\n",
       "0  {'r': 0.625, 'p': 0.27586206896551724, 'f': 0....   \n",
       "1  {'r': 0.39473684210526316, 'p': 0.238095238095...   \n",
       "2  {'r': 0.86, 'p': 0.48314606741573035, 'f': 0.6...   \n",
       "3  {'r': 0.7974683544303798, 'p': 0.4375, 'f': 0....   \n",
       "4  {'r': 0.8888888888888888, 'p': 0.1758241758241...   \n",
       "\n",
       "                                     rouge-l_lexrank  \\\n",
       "0  {'r': 0.6981132075471698, 'p': 0.3663366336633...   \n",
       "1  {'r': 0.47058823529411764, 'p': 0.313725490196...   \n",
       "2  {'r': 0.9302325581395349, 'p': 0.5128205128205...   \n",
       "3  {'r': 0.828125, 'p': 0.5353535353535354, 'f': ...   \n",
       "4  {'r': 0.9375, 'p': 0.22727272727272727, 'f': 0...   \n",
       "\n",
       "                                        rouge-1_luhn  \\\n",
       "0  {'r': 0.5098039215686274, 'p': 0.2574257425742...   \n",
       "1  {'r': 0.2553191489361702, 'p': 0.2352941176470...   \n",
       "2  {'r': 0.9302325581395349, 'p': 0.5128205128205...   \n",
       "3  {'r': 1.0, 'p': 0.5656565656565656, 'f': 0.722...   \n",
       "4  {'r': 1.0, 'p': 0.49242424242424243, 'f': 0.65...   \n",
       "\n",
       "                                        rouge-2_luhn  \\\n",
       "0  {'r': 0.3181818181818182, 'p': 0.1448275862068...   \n",
       "1  {'r': 0.034482758620689655, 'p': 0.03174603174...   \n",
       "2  {'r': 0.86, 'p': 0.48314606741573035, 'f': 0.6...   \n",
       "3  {'r': 0.9861111111111112, 'p': 0.4930555555555...   \n",
       "4  {'r': 0.975609756097561, 'p': 0.43956043956043...   \n",
       "\n",
       "                                        rouge-l_luhn  \\\n",
       "0  {'r': 0.5098039215686274, 'p': 0.2574257425742...   \n",
       "1  {'r': 0.2127659574468085, 'p': 0.1960784313725...   \n",
       "2  {'r': 0.9302325581395349, 'p': 0.5128205128205...   \n",
       "3  {'r': 1.0, 'p': 0.5656565656565656, 'f': 0.722...   \n",
       "4  {'r': 1.0, 'p': 0.49242424242424243, 'f': 0.65...   \n",
       "\n",
       "                                   rouge-1_sum_basic  \\\n",
       "0  {'r': 0.7142857142857143, 'p': 0.2970297029702...   \n",
       "1  {'r': 0.41379310344827586, 'p': 0.235294117647...   \n",
       "2  {'r': 0.8113207547169812, 'p': 0.5512820512820...   \n",
       "3  {'r': 0.6857142857142857, 'p': 0.2424242424242...   \n",
       "4  {'r': 0.7666666666666667, 'p': 0.1742424242424...   \n",
       "\n",
       "                                   rouge-2_sum_basic  \\\n",
       "0  {'r': 0.5471698113207547, 'p': 0.2, 'f': 0.292...   \n",
       "1  {'r': 0.21212121212121213, 'p': 0.111111111111...   \n",
       "2  {'r': 0.7166666666666667, 'p': 0.4831460674157...   \n",
       "3  {'r': 0.631578947368421, 'p': 0.16666666666666...   \n",
       "4  {'r': 0.6666666666666666, 'p': 0.1318681318681...   \n",
       "\n",
       "                                   rouge-l_sum_basic  \\\n",
       "0  {'r': 0.7142857142857143, 'p': 0.2970297029702...   \n",
       "1  {'r': 0.41379310344827586, 'p': 0.235294117647...   \n",
       "2  {'r': 0.7924528301886793, 'p': 0.5384615384615...   \n",
       "3  {'r': 0.6571428571428571, 'p': 0.2323232323232...   \n",
       "4  {'r': 0.7333333333333333, 'p': 0.1666666666666...   \n",
       "\n",
       "                                    ensemble_summary  \n",
       "0  Sergio Marchionne has replaced Herbert Demel a...  \n",
       "1  \"But if I'm doing this kind of thing, then I w...  \n",
       "2  Nicolas Cage movie National Treasure has toppe...  \n",
       "3  Mr McConnell went on to signal that the execut...  \n",
       "4  On Thursday, the Court of Session threw out a ...  "
      ]
     },
     "execution_count": 38,
     "metadata": {},
     "output_type": "execute_result"
    }
   ],
   "source": [
    "df_for_ensemble.head()"
   ]
  },
  {
   "cell_type": "markdown",
   "id": "bffa63bd",
   "metadata": {},
   "source": [
    "### Rogue Scores"
   ]
  },
  {
   "cell_type": "code",
   "execution_count": 39,
   "id": "17c894d8",
   "metadata": {},
   "outputs": [],
   "source": [
    "results_ensemble = calc_rouge(df_for_ensemble, 'summary', 'ensemble_summary')\n",
    "results_ensemble.columns = ['rouge-1_ensemble', 'rouge-2_ensemble', 'rouge-l_ensemble']#### Average"
   ]
  },
  {
   "cell_type": "markdown",
   "id": "bfcfcdd6",
   "metadata": {},
   "source": [
    "#### Average"
   ]
  },
  {
   "cell_type": "code",
   "execution_count": 40,
   "id": "77e77611",
   "metadata": {},
   "outputs": [
    {
     "name": "stdout",
     "output_type": "stream",
     "text": [
      "Ensemble:\n",
      "Average rouge-1 score:  0.8086883062709452\n",
      "Average rouge-2 score:  0.7154968750151037\n",
      "Average rouge-l score:  0.7981451504751497\n"
     ]
    }
   ],
   "source": [
    "avg_r1, avg_r2, avg_rL = avg_rouge(results_ensemble, 'rouge-1_ensemble', 'rouge-2_ensemble', 'rouge-l_ensemble')\n",
    "print(\"Ensemble:\")\n",
    "print('Average rouge-1 score: ', avg_r1)\n",
    "print('Average rouge-2 score: ', avg_r2)\n",
    "print('Average rouge-l score: ', avg_rL)"
   ]
  },
  {
   "cell_type": "markdown",
   "id": "c5d64625-3140-4d59-a011-832ff2bf543d",
   "metadata": {},
   "source": [
    "# Testing Data"
   ]
  },
  {
   "cell_type": "markdown",
   "id": "d3b7fd66-1a26-4f83-b22c-e40931a3a614",
   "metadata": {},
   "source": [
    "## 1) LSA"
   ]
  },
  {
   "cell_type": "code",
   "execution_count": 41,
   "id": "63ff7ed3-8a76-4758-b697-f98b32b82733",
   "metadata": {},
   "outputs": [
    {
     "name": "stdout",
     "output_type": "stream",
     "text": [
      "LSA Test\n",
      "Average rouge-1 score:  0.6196727464861287\n",
      "Average rogue-2 score: 0.4748775367367442\n",
      "Average rogue-l score: 0.602950916939744\n"
     ]
    }
   ],
   "source": [
    "test['lsa_summary'] = test['text'].apply(lambda x: summarizer(x, 3))\n",
    "results_lsa_test = calc_rouge(test, 'summary', 'lsa_summary')\n",
    "results_lsa_test.columns = ['rouge-1_lsa', 'rouge-2_lsa', 'rouge-l_lsa']\n",
    "#average rouge recall scores for lsa\n",
    "avg_r1, avg_r2, avg_rL = avg_rouge(results_lsa_test,'rouge-1_lsa', 'rouge-2_lsa', 'rouge-l_lsa' )\n",
    "print('LSA Test')\n",
    "print('Average rouge-1 score: ', avg_r1)\n",
    "print('Average rogue-2 score:', avg_r2)\n",
    "print('Average rogue-l score:', avg_rL)"
   ]
  },
  {
   "cell_type": "markdown",
   "id": "404fdba3-f9c4-4a2a-99d0-b0aa3abe4e76",
   "metadata": {},
   "source": [
    "## 2) LexRank"
   ]
  },
  {
   "cell_type": "code",
   "execution_count": 42,
   "id": "96e9f329-df9c-4d28-8673-45ba14f35deb",
   "metadata": {},
   "outputs": [
    {
     "name": "stdout",
     "output_type": "stream",
     "text": [
      "LexRank Test\n",
      "Average rouge-1 score:  0.7962527418490459\n",
      "Average rogue-2 score: 0.6982959765943381\n",
      "Average rogue-l score: 0.7858444588604405\n"
     ]
    }
   ],
   "source": [
    "test['lexrank_summary'] = test['text'].apply(lambda x: summarizer(x, 3, LexRankSummarizer))\n",
    "results_lexrank_test = calc_rouge(test, 'summary', 'lexrank_summary')\n",
    "results_lexrank_test.columns = ['rouge-1_lexrank', 'rouge-2_lexrank', 'rouge-l_lexrank']\n",
    "#average rouge recall scores for lexrank\n",
    "avg_r1, avg_r2, avg_rL = avg_rouge(results_lexrank_test,'rouge-1_lexrank', 'rouge-2_lexrank', 'rouge-l_lexrank' )\n",
    "print('LexRank Test')\n",
    "print('Average rouge-1 score: ', avg_r1)\n",
    "print('Average rogue-2 score:', avg_r2)\n",
    "print('Average rogue-l score:', avg_rL)"
   ]
  },
  {
   "cell_type": "markdown",
   "id": "34f3dae2-aa9d-4fa1-ac0e-09590eb2d737",
   "metadata": {},
   "source": [
    "## 3) L.U.H.N"
   ]
  },
  {
   "cell_type": "code",
   "execution_count": 43,
   "id": "fccced66-1aed-4a21-abb5-616338731072",
   "metadata": {},
   "outputs": [
    {
     "name": "stdout",
     "output_type": "stream",
     "text": [
      "Luhn Test\n",
      "Average rouge-1 score:  0.7848367380546\n",
      "Average rogue-2 score: 0.6924121368032535\n",
      "Average rogue-l score: 0.773225020999985\n"
     ]
    }
   ],
   "source": [
    "test['luhn_summary'] = test['text'].apply(lambda x: summarizer(x, 3, LuhnSummarizer))\n",
    "results_luhn_test = calc_rouge(test, 'summary', 'luhn_summary')\n",
    "results_luhn_test.columns = ['rouge-1_luhn', 'rouge-2_luhn', 'rouge-l_luhn']\n",
    "#average rouge recall scores for luhn\n",
    "avg_r1, avg_r2, avg_rL = avg_rouge(results_luhn_test,'rouge-1_luhn', 'rouge-2_luhn', 'rouge-l_luhn' )\n",
    "print('Luhn Test')\n",
    "print('Average rouge-1 score: ', avg_r1)\n",
    "print('Average rogue-2 score:', avg_r2)\n",
    "print('Average rogue-l score:', avg_rL)"
   ]
  },
  {
   "cell_type": "markdown",
   "id": "0dcc40fa-5331-4e80-a0c9-a60f89ebdc80",
   "metadata": {},
   "source": [
    "## 4) SumBasic"
   ]
  },
  {
   "cell_type": "code",
   "execution_count": 44,
   "id": "c041252f-cfdb-4b13-86bd-3b4fbf9f725e",
   "metadata": {},
   "outputs": [
    {
     "name": "stdout",
     "output_type": "stream",
     "text": [
      "SumBasic Test\n",
      "Average rouge-1 score:  0.6768681473382804\n",
      "Average rogue-2 score: 0.4955983469338142\n",
      "Average rogue-l score: 0.6573773618972109\n"
     ]
    }
   ],
   "source": [
    "test['sum_basic_summary'] = test['text'].apply(lambda x: summarizer(x, 3, SumBasicSummarizer))\n",
    "results_sum_basic_test = calc_rouge(test, 'summary', 'sum_basic_summary')\n",
    "results_sum_basic_test.columns = ['rouge-1_sum_basic', 'rouge-2_sum_basic', 'rouge-l_sum_basic']\n",
    "#average rouge recall scores for sum_basic\n",
    "avg_r1, avg_r2, avg_rL = avg_rouge(results_sum_basic_test,'rouge-1_sum_basic', 'rouge-2_sum_basic', 'rouge-l_sum_basic' )\n",
    "print('SumBasic Test')\n",
    "print('Average rouge-1 score: ', avg_r1)\n",
    "print('Average rogue-2 score:', avg_r2)\n",
    "print('Average rogue-l score:', avg_rL)"
   ]
  },
  {
   "cell_type": "markdown",
   "id": "cda849af-93b1-4b2b-aa3b-68623c4ae423",
   "metadata": {},
   "source": [
    "## Ensemble Extractive Approach"
   ]
  },
  {
   "cell_type": "code",
   "execution_count": 45,
   "id": "e0a802e9-2621-4122-9c28-89ad87352f30",
   "metadata": {},
   "outputs": [
    {
     "name": "stdout",
     "output_type": "stream",
     "text": [
      "Ensemble:\n",
      "Average rouge-1 score:  0.7972945358818847\n",
      "Average rouge-2 score:  0.7041159782629272\n",
      "Average rouge-l score:  0.7862432180889567\n"
     ]
    }
   ],
   "source": [
    "results = pd.concat([results_lsa_test, results_lexrank_test, results_luhn_test, results_sum_basic_test], axis=1)\n",
    "test_con = pd.concat([test, results], axis = 1)\n",
    "test_con['ensemble_summary'] = test_con.apply(lambda x: generate_ensemble_summary(x, weight_lsa, weight_lexrank, weight_luhn, weight_sb), axis=1)\n",
    "results_ensemble_test = calc_rouge(test_con, 'summary', 'ensemble_summary')\n",
    "results_ensemble_test.columns = ['rouge-1_ensemble', 'rouge-2_ensemble', 'rouge-l_ensemble']\n",
    "\n",
    "avg_r1, avg_r2, avg_rL = avg_rouge(results_ensemble_test, 'rouge-1_ensemble', 'rouge-2_ensemble', 'rouge-l_ensemble')\n",
    "print(\"Ensemble:\")\n",
    "print('Average rouge-1 score: ', avg_r1)\n",
    "print('Average rouge-2 score: ', avg_r2)\n",
    "print('Average rouge-l score: ', avg_rL)"
   ]
  }
 ],
 "metadata": {
  "kernelspec": {
   "display_name": "ensemble_kernel",
   "language": "python",
   "name": "ensemble_kernel"
  },
  "language_info": {
   "codemirror_mode": {
    "name": "ipython",
    "version": 3
   },
   "file_extension": ".py",
   "mimetype": "text/x-python",
   "name": "python",
   "nbconvert_exporter": "python",
   "pygments_lexer": "ipython3",
   "version": "3.11.5"
  }
 },
 "nbformat": 4,
 "nbformat_minor": 5
}
